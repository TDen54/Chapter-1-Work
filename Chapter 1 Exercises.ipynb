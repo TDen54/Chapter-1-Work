{
 "cells": [
  {
   "cell_type": "markdown",
   "id": "5bf42d72",
   "metadata": {},
   "source": [
    "#Chapter 1 Exercises Problems 1,3,4"
   ]
  },
  {
   "cell_type": "markdown",
   "id": "fad89534",
   "metadata": {},
   "source": [
    "##Ex.1 Using the Python Print Statement"
   ]
  },
  {
   "cell_type": "code",
   "execution_count": 1,
   "id": "66b0d399",
   "metadata": {},
   "outputs": [
    {
     "name": "stdout",
     "output_type": "stream",
     "text": [
      "This is a test of the Python interpreter.\n"
     ]
    }
   ],
   "source": [
    "#Demonstrating the Print Function\n",
    "print('This is a test of the Python interpreter.')"
   ]
  },
  {
   "cell_type": "code",
   "execution_count": 2,
   "id": "941ba185",
   "metadata": {},
   "outputs": [
    {
     "name": "stdout",
     "output_type": "stream",
     "text": [
      "Lil Baby is the best rapper: 4\n"
     ]
    }
   ],
   "source": [
    "print('Lil Baby is the best rapper:',4)"
   ]
  },
  {
   "cell_type": "markdown",
   "id": "8495693e",
   "metadata": {},
   "source": [
    "#Ex.3 Converting Decimal Numbers to Binary\n",
    "\n",
    "\n",
    "11 converted into binary would be 1011\n",
    "\n",
    "Powers of 2: 3 2 1 0\n",
    "\n",
    "Place Value: 8 4 2 1\n",
    "\n",
    "State: 1 0 1 1\n",
    "   \n",
    "   8+2+1=11\n",
    "\n",
    "\n",
    "65 converted to Binary would be 1000001\n",
    "\n",
    "Powers of 2: 6 5 4 3 2 1\n",
    "\n",
    "Place Values: 64 32 16 8 4 2 1\n",
    "\n",
    "State: 1 0 0 0 0 0 0 1\n",
    "\n",
    "64+1=65\n",
    "\n",
    "\n",
    "100 converted to binary would be 1100100\n",
    "\n",
    "Powers of 2: 6 5 4 3 2 1\n",
    "\n",
    "Place Value: 64 32 16 8 4 2 1\n",
    "\n",
    "State: 1 1 0 0 1 0 0\n",
    "\n",
    "64+32+4=100\n",
    "\n",
    "\n",
    "255 converted to binary would be 11111111\n",
    "\n",
    "Powers of 2: 7 6 5 4 3 2 1\n",
    "\n",
    "Place Value: 128 64 32 16 8 4 2 1\n",
    "\n",
    "State: 1 1 1 1 1 1 1 1\n",
    "\n",
    "128+64+32+16+8+4+2+1=255\n",
    "\n",
    "\n",
    "#Example 4 Converting Binary Numbers To Decimal\n",
    "\n",
    "\n",
    "1101 converted to decimal is 13\n",
    "\n",
    "Powers of 2: 3 2 1 0\n",
    "\n",
    "Place Value: 8 4 2 1\n",
    "\n",
    "State: 1 1 0 1\n",
    "\n",
    "8+4+1=13\n",
    "\n",
    "\n",
    "1000 converted to decimal is 8\n",
    "\n",
    "Powers of 2: 3 2 1 0\n",
    "\n",
    "Place Value: 8 4 2 1\n",
    "\n",
    "State: 1 0 0 0\n",
    "\n",
    "8=8\n",
    "\n",
    "\n",
    "101011 converted to decimal is 43\n",
    "\n",
    "Powers of 2: 6 5 4 3 2 1 0\n",
    "\n",
    "Place value: 32 16 8 4 2 1\n",
    "\n",
    "State: 1 0 1 0 1 1\n",
    "\n",
    "32+8+2+1=43"
   ]
  }
 ],
 "metadata": {
  "kernelspec": {
   "display_name": "Python 3 (ipykernel)",
   "language": "python",
   "name": "python3"
  },
  "language_info": {
   "codemirror_mode": {
    "name": "ipython",
    "version": 3
   },
   "file_extension": ".py",
   "mimetype": "text/x-python",
   "name": "python",
   "nbconvert_exporter": "python",
   "pygments_lexer": "ipython3",
   "version": "3.11.4"
  }
 },
 "nbformat": 4,
 "nbformat_minor": 5
}
